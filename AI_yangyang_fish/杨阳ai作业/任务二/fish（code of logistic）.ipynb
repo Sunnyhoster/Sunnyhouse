{
 "cells": [
  {
   "cell_type": "code",
   "execution_count": 1,
   "metadata": {
    "collapsed": true
   },
   "outputs": [],
   "source": [
    "import pandas as pd\n",
    "import numpy as np\n",
    "\n",
    "#data_test_raw=pd.read_csv('/home/yang/培训/AI/salted_fish/salted_fish_test.csv',header=None)\n",
    "#data_train_raw=pd.read_csv('/home/yang/培训/AI/salted_fish/salted_fish_train.csv',header=None)\n",
    "\n",
    "data_test_raw=pd.read_csv('/home/yang/培训/AI/salted_fish/new_test.csv')\n",
    "data_train_raw=pd.read_csv('/home/yang/培训/AI/salted_fish/new_train.csv')"
   ]
  },
  {
   "cell_type": "code",
   "execution_count": 2,
   "metadata": {
    "collapsed": true
   },
   "outputs": [],
   "source": [
    "X_train=data_train_raw.as_matrix()[:,:-1]\n",
    "Y_train=data_train_raw.as_matrix()[:,-1]\n",
    "X_test=data_test_raw.as_matrix()[:,:-1]\n",
    "Y_test=data_test_raw.as_matrix()[:,-1]"
   ]
  },
  {
   "cell_type": "markdown",
   "metadata": {
    "collapsed": true
   },
   "source": [
    "where_are_nan = np.isnan(X_test)\n",
    "X_test[where_are_nan] =50\n",
    "where_are_nan = np.isnan(X_train)\n",
    "X_train[where_are_nan] =50"
   ]
  },
  {
   "cell_type": "code",
   "execution_count": 3,
   "metadata": {
    "collapsed": true
   },
   "outputs": [],
   "source": [
    "m,n=X_train.shape\n",
    "add=np.ones((m,1))\n",
    "X_train=np.hstack((add,X_train))\n",
    "weights=np.ones((n+1,1))"
   ]
  },
  {
   "cell_type": "code",
   "execution_count": 4,
   "metadata": {
    "collapsed": true
   },
   "outputs": [],
   "source": [
    "m,n=X_test.shape\n",
    "add=np.ones((m,1))\n",
    "X_test=np.hstack((add,X_test))"
   ]
  },
  {
   "cell_type": "code",
   "execution_count": 5,
   "metadata": {
    "collapsed": true
   },
   "outputs": [],
   "source": [
    "def sigmoid(inX):\n",
    "    return 1.0/(1+np.exp(-inX))"
   ]
  },
  {
   "cell_type": "code",
   "execution_count": 6,
   "metadata": {
    "collapsed": true
   },
   "outputs": [],
   "source": [
    "weights=np.mat(weights)"
   ]
  },
  {
   "cell_type": "code",
   "execution_count": 7,
   "metadata": {
    "collapsed": true
   },
   "outputs": [],
   "source": [
    "X_train=np.mat(X_train)\n",
    "Y_train=np.mat(Y_train)"
   ]
  },
  {
   "cell_type": "code",
   "execution_count": 8,
   "metadata": {},
   "outputs": [
    {
     "name": "stderr",
     "output_type": "stream",
     "text": [
      "/home/yang/anaconda3/lib/python3.6/site-packages/ipykernel_launcher.py:2: RuntimeWarning: overflow encountered in exp\n",
      "  \n"
     ]
    }
   ],
   "source": [
    "maxCycles=500\n",
    "alpha=0.001\n",
    "for k in range(maxCycles):\n",
    "    h=sigmoid(X_train*weights)\n",
    "    error=(Y_train-h)\n",
    "    weights=weights+alpha*X_train.transpose()*error\n",
    "    "
   ]
  },
  {
   "cell_type": "code",
   "execution_count": 9,
   "metadata": {
    "collapsed": true
   },
   "outputs": [],
   "source": [
    "def stocGradAscent(X_mat, Y_mat, numIter=150):\n",
    "    m,n = X_mat.shape\n",
    "    weights =np.mat(np.ones((9,1)))   #initialize to all ones\n",
    "    for j in range(numIter):\n",
    "        dataIndex = list(range(m))\n",
    "        for i in range(m):\n",
    "            alpha = 4/(1.0+j+i)+0.0001    #apha decreases with iteration, does not \n",
    "            randIndex = int(np.random.uniform(0,len(dataIndex)))#go to 0 because of the constant\n",
    "            h = sigmoid(sum(X_mat[randIndex]*weights))\n",
    "            error = Y_mat.transpose()[randIndex] - h\n",
    "            weights = weights + alpha* X_mat[randIndex].transpose()* error \n",
    "            del(dataIndex[randIndex])\n",
    "    return weights"
   ]
  },
  {
   "cell_type": "code",
   "execution_count": 10,
   "metadata": {
    "collapsed": true
   },
   "outputs": [],
   "source": [
    "def stocGradAscent1(X_mat, Y_mat):\n",
    "    m,n = X_mat.shape\n",
    "    alpha=0.0001\n",
    "    weights =np.mat(np.ones((9,1))) \n",
    "    for j in range(100):\n",
    "        for i in range(m):\n",
    "            h = sigmoid(sum(X_mat[i]*weights))\n",
    "            error = Y_mat.transpose()[i] - h\n",
    "            weights = weights + alpha* X_mat[i].transpose()* error \n",
    "    return weights"
   ]
  },
  {
   "cell_type": "code",
   "execution_count": 11,
   "metadata": {},
   "outputs": [
    {
     "name": "stderr",
     "output_type": "stream",
     "text": [
      "/home/yang/anaconda3/lib/python3.6/site-packages/ipykernel_launcher.py:2: RuntimeWarning: overflow encountered in exp\n",
      "  \n"
     ]
    }
   ],
   "source": [
    "weights=stocGradAscent(X_train,Y_train)"
   ]
  },
  {
   "cell_type": "code",
   "execution_count": 12,
   "metadata": {
    "collapsed": true
   },
   "outputs": [],
   "source": [
    "X_test=np.mat(X_test)"
   ]
  },
  {
   "cell_type": "code",
   "execution_count": 13,
   "metadata": {},
   "outputs": [
    {
     "name": "stderr",
     "output_type": "stream",
     "text": [
      "/home/yang/anaconda3/lib/python3.6/site-packages/ipykernel_launcher.py:2: RuntimeWarning: overflow encountered in exp\n",
      "  \n"
     ]
    }
   ],
   "source": [
    "result_predict=sigmoid(X_test*weights)"
   ]
  },
  {
   "cell_type": "code",
   "execution_count": 14,
   "metadata": {
    "collapsed": true
   },
   "outputs": [],
   "source": [
    "def classifyVector(inX):\n",
    "    return [int(i) for i in 1.0/(1+np.exp(-inX))+0.5]"
   ]
  },
  {
   "cell_type": "code",
   "execution_count": 15,
   "metadata": {},
   "outputs": [
    {
     "name": "stderr",
     "output_type": "stream",
     "text": [
      "/home/yang/anaconda3/lib/python3.6/site-packages/ipykernel_launcher.py:2: RuntimeWarning: overflow encountered in exp\n",
      "  \n"
     ]
    }
   ],
   "source": [
    "result_predict=classifyVector(X_test*weights)"
   ]
  },
  {
   "cell_type": "code",
   "execution_count": 16,
   "metadata": {
    "collapsed": true
   },
   "outputs": [],
   "source": [
    "result_predict=np.mat(result_predict)"
   ]
  },
  {
   "cell_type": "code",
   "execution_count": 17,
   "metadata": {},
   "outputs": [],
   "source": [
    "rightRate=1-sum(abs(result_predict-Y_test).tolist()[0])/len(Y_test)"
   ]
  },
  {
   "cell_type": "code",
   "execution_count": 18,
   "metadata": {},
   "outputs": [
    {
     "data": {
      "text/plain": [
       "'the right rate of this test is: 0.667910'"
      ]
     },
     "execution_count": 18,
     "metadata": {},
     "output_type": "execute_result"
    }
   ],
   "source": [
    "\"the right rate of this test is: %f\" % rightRate"
   ]
  },
  {
   "cell_type": "code",
   "execution_count": 21,
   "metadata": {},
   "outputs": [],
   "source": [
    "Y_up=[]\n",
    "X_up=[]\n",
    "Y_down=[]\n",
    "X_down=[]\n",
    "\n",
    "for i in range(len(Y_test)):\n",
    "    if Y_test[i]==1:\n",
    "        Y_up.append(Y_test[i])\n",
    "        X_up.append(X_test[i])\n",
    "    else:\n",
    "        Y_down.append(Y_test[i])\n",
    "        X_down.append(X_test[i])"
   ]
  },
  {
   "cell_type": "code",
   "execution_count": 54,
   "metadata": {},
   "outputs": [
    {
     "name": "stderr",
     "output_type": "stream",
     "text": [
      "/home/yang/anaconda3/lib/python3.6/site-packages/ipykernel_launcher.py:2: RuntimeWarning: overflow encountered in exp\n",
      "  \n"
     ]
    }
   ],
   "source": [
    "sum=0\n",
    "m=len(Y_up)\n",
    "n=len(Y_down)\n",
    "for i in range(m):\n",
    "    for j in range(n):\n",
    "        up=X_up[i]*weights\n",
    "        down=X_down[j]*weights\n",
    "        if sigmoid(up[0,0])<(1-sigmoid(down[0,0])):\n",
    "               sum+=1\n",
    "        elif sigmoid(up[0,0])==(1-sigmoid(down[0,0])):\n",
    "               sum+=0.5\n",
    "        else:\n",
    "               sum+=0"
   ]
  },
  {
   "cell_type": "code",
   "execution_count": 59,
   "metadata": {},
   "outputs": [],
   "source": [
    "AUC=sum/(m*n)"
   ]
  },
  {
   "cell_type": "code",
   "execution_count": 60,
   "metadata": {},
   "outputs": [
    {
     "data": {
      "text/plain": [
       "'the AUC of this test is: 1.000000'"
      ]
     },
     "execution_count": 60,
     "metadata": {},
     "output_type": "execute_result"
    }
   ],
   "source": [
    "\"the AUC of this test is: %f\" % AUC"
   ]
  },
  {
   "cell_type": "code",
   "execution_count": null,
   "metadata": {
    "collapsed": true
   },
   "outputs": [],
   "source": []
  }
 ],
 "metadata": {
  "kernelspec": {
   "display_name": "Python 3",
   "language": "python",
   "name": "python3"
  },
  "language_info": {
   "codemirror_mode": {
    "name": "ipython",
    "version": 3
   },
   "file_extension": ".py",
   "mimetype": "text/x-python",
   "name": "python",
   "nbconvert_exporter": "python",
   "pygments_lexer": "ipython3",
   "version": "3.6.3"
  }
 },
 "nbformat": 4,
 "nbformat_minor": 2
}

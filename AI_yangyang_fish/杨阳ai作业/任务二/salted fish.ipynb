{
 "cells": [
  {
   "cell_type": "markdown",
   "metadata": {},
   "source": [
    "任务\n",
    "1. 自己实现逻辑回归算法\n",
    "2. 使用所给数据集对逻辑回归进行评测,并尝试提升训练效果,与 Scikit Learn 的逻辑回归做对比测试(可尝试\n",
    "使用 AUC、F-score 等评价标准)。\n",
    "【加分项】\n",
    "1. 实现并尝试各种优化算法(梯度下降,牛顿法,各种自适应优化算法如Adagrad,Adadelta等),熟悉其优缺\n",
    "点。\n",
    "2. 自己手动实现AUC等评价标准\n",
    "3. 优异的测试效果"
   ]
  },
  {
   "cell_type": "code",
   "execution_count": 1,
   "metadata": {
    "collapsed": true
   },
   "outputs": [],
   "source": [
    "import pandas as pd\n",
    "import numpy as np\n",
    "from sklearn.linear_model import LogisticRegression\n",
    "\n",
    "data_test_raw=pd.read_csv('/home/yang/培训/AI/salted_fish/salted_fish_test.csv',header=None)\n",
    "data_train_raw=pd.read_csv('/home/yang/培训/AI/salted_fish/salted_fish_train.csv',header=None)"
   ]
  },
  {
   "cell_type": "code",
   "execution_count": 2,
   "metadata": {},
   "outputs": [
    {
     "name": "stdout",
     "output_type": "stream",
     "text": [
      "<class 'pandas.core.frame.DataFrame'>\n",
      "RangeIndex: 500 entries, 0 to 499\n",
      "Data columns (total 9 columns):\n",
      "0    500 non-null float64\n",
      "1    500 non-null int64\n",
      "2    496 non-null float64\n",
      "3    478 non-null float64\n",
      "4    262 non-null float64\n",
      "5    497 non-null float64\n",
      "6    358 non-null float64\n",
      "7    500 non-null int64\n",
      "8    500 non-null int64\n",
      "dtypes: float64(6), int64(3)\n",
      "memory usage: 35.2 KB\n"
     ]
    }
   ],
   "source": [
    "data_train_raw.info()"
   ]
  },
  {
   "cell_type": "markdown",
   "metadata": {},
   "source": [
    "42.0     261 non-null float64\n",
    "41.0     357 non-null float64"
   ]
  },
  {
   "cell_type": "code",
   "execution_count": 3,
   "metadata": {},
   "outputs": [
    {
     "name": "stdout",
     "output_type": "stream",
     "text": [
      "<class 'pandas.core.frame.DataFrame'>\n",
      "RangeIndex: 268 entries, 0 to 267\n",
      "Data columns (total 9 columns):\n",
      "0    268 non-null float64\n",
      "1    268 non-null int64\n",
      "2    261 non-null float64\n",
      "3    255 non-null float64\n",
      "4    132 non-null float64\n",
      "5    266 non-null float64\n",
      "6    183 non-null float64\n",
      "7    268 non-null int64\n",
      "8    268 non-null int64\n",
      "dtypes: float64(6), int64(3)\n",
      "memory usage: 18.9 KB\n"
     ]
    }
   ],
   "source": [
    "data_test_raw.info()"
   ]
  },
  {
   "cell_type": "markdown",
   "metadata": {},
   "source": [
    "from echartlib import echartlib\n",
    "from IPython.display import HTML\n",
    "echart = echartlib(width=800, height=450)\n",
    "data_name = [\"1\",\"2\"]\n",
    "xAxis_data = list(X_train[:,1])\n",
    "yAxis_data = list(X_train[:,1]),list(X_train[:,2])\n",
    "\n",
    "HTML(echart.plot_line(data_name=data_name, xAxis_data=xAxis_data, yAxis_data=yAxis_data, title=\"股票\"))"
   ]
  },
  {
   "cell_type": "code",
   "execution_count": 4,
   "metadata": {
    "collapsed": true
   },
   "outputs": [],
   "source": [
    "from sklearn.ensemble import RandomForestRegressor\n",
    "\n",
    "data_test=data_test_raw[[0,1,2,3,5,7,8,4]]\n",
    "data_test=data_test.dropna(axis=0,subset=[0,1,2,3,5,7,8]) \n",
    "known=data_test[data_test[4].notnull()].as_matrix()\n",
    "unknown=data_test[data_test[4].isnull()].as_matrix()\n",
    "x=known[:,:-1]\n",
    "y=known[:,-1]\n",
    "rfr=RandomForestRegressor(random_state=0,n_estimators=2000,n_jobs=-1)\n",
    "rfr.fit(x,y)\n",
    "predicted = rfr.predict(unknown[:, :-1])\n",
    "data_test.loc[(data_test[4].isnull()), 4] = predicted"
   ]
  },
  {
   "cell_type": "code",
   "execution_count": 5,
   "metadata": {
    "collapsed": true
   },
   "outputs": [],
   "source": [
    "data_train=data_train_raw[[0,1,2,3,5,7,8,4]]\n",
    "data_train=data_train.dropna(axis=0,subset=[0,1,2,3,5,7,8]) \n",
    "known=data_train[data_train[4].notnull()].as_matrix()\n",
    "unknown=data_train[data_train[4].isnull()].as_matrix()\n",
    "x=known[:,:-1]\n",
    "y=known[:,-1]\n",
    "rfr=RandomForestRegressor(random_state=0,n_estimators=2000,n_jobs=-1)\n",
    "rfr.fit(x,y)\n",
    "predicted = rfr.predict(unknown[:, :-1])\n",
    "data_train.loc[(data_train[4].isnull()), 4] = predicted"
   ]
  },
  {
   "cell_type": "code",
   "execution_count": 6,
   "metadata": {
    "collapsed": true
   },
   "outputs": [],
   "source": [
    "from sklearn.ensemble import RandomForestRegressor\n",
    "\n",
    "data_test=data_test_raw[[0,1,2,3,5,7,8,4]]\n",
    "data_test=data_test.dropna(axis=0,subset=[0,1,2,3,5,7,8]) \n",
    "known=data_test[data_test[4].notnull()].as_matrix()\n",
    "unknown=data_test[data_test[4].isnull()].as_matrix()\n",
    "x=known[:,:-1]\n",
    "y=known[:,-1]\n",
    "rfr=RandomForestRegressor(random_state=0,n_estimators=2000,n_jobs=-1)\n",
    "rfr.fit(x,y)\n",
    "predicted = rfr.predict(unknown[:, :-1])\n",
    "data_test.loc[(data_test[4].isnull()), 4] =50"
   ]
  },
  {
   "cell_type": "code",
   "execution_count": 7,
   "metadata": {
    "collapsed": true
   },
   "outputs": [],
   "source": [
    "data_train=data_train_raw[[0,1,2,3,5,7,8,4]]\n",
    "data_train=data_train.dropna(axis=0,subset=[0,1,2,3,5,7,8]) \n",
    "known=data_train[data_train[4].notnull()].as_matrix()\n",
    "unknown=data_train[data_train[4].isnull()].as_matrix()\n",
    "x=known[:,:-1]\n",
    "y=known[:,-1]\n",
    "rfr=RandomForestRegressor(random_state=0,n_estimators=2000,n_jobs=-1)\n",
    "rfr.fit(x,y)\n",
    "predicted = rfr.predict(unknown[:, :-1])\n",
    "data_train.loc[(data_train[4].isnull()), 4] =50"
   ]
  },
  {
   "cell_type": "code",
   "execution_count": 8,
   "metadata": {
    "collapsed": true
   },
   "outputs": [],
   "source": [
    "X_test=data_test_raw.as_matrix()[:,:-1]\n",
    "Y_test=data_test_raw.as_matrix()[:,-1]\n",
    "where_are_nan = np.isnan(X_test)\n",
    "X_test[where_are_nan] =50\n",
    "\n",
    "X_train=data_train_raw.as_matrix()[:,:-1]\n",
    "Y_train=data_train_raw.as_matrix()[:,-1]\n",
    "where_are_nan = np.isnan(X_train)\n",
    "X_train[where_are_nan] =50"
   ]
  },
  {
   "cell_type": "code",
   "execution_count": 9,
   "metadata": {},
   "outputs": [
    {
     "data": {
      "text/html": [
       "<div>\n",
       "<style>\n",
       "    .dataframe thead tr:only-child th {\n",
       "        text-align: right;\n",
       "    }\n",
       "\n",
       "    .dataframe thead th {\n",
       "        text-align: left;\n",
       "    }\n",
       "\n",
       "    .dataframe tbody tr th {\n",
       "        vertical-align: top;\n",
       "    }\n",
       "</style>\n",
       "<table border=\"1\" class=\"dataframe\">\n",
       "  <thead>\n",
       "    <tr style=\"text-align: right;\">\n",
       "      <th></th>\n",
       "      <th>0</th>\n",
       "      <th>1</th>\n",
       "      <th>2</th>\n",
       "      <th>3</th>\n",
       "      <th>5</th>\n",
       "      <th>7</th>\n",
       "      <th>8</th>\n",
       "      <th>4</th>\n",
       "    </tr>\n",
       "  </thead>\n",
       "  <tbody>\n",
       "    <tr>\n",
       "      <th>0</th>\n",
       "      <td>0.207</td>\n",
       "      <td>3</td>\n",
       "      <td>25.8</td>\n",
       "      <td>72.0</td>\n",
       "      <td>106.0</td>\n",
       "      <td>27</td>\n",
       "      <td>0</td>\n",
       "      <td>50.0</td>\n",
       "    </tr>\n",
       "    <tr>\n",
       "      <th>1</th>\n",
       "      <td>0.160</td>\n",
       "      <td>4</td>\n",
       "      <td>33.1</td>\n",
       "      <td>68.0</td>\n",
       "      <td>131.0</td>\n",
       "      <td>28</td>\n",
       "      <td>0</td>\n",
       "      <td>166.0</td>\n",
       "    </tr>\n",
       "    <tr>\n",
       "      <th>2</th>\n",
       "      <td>0.496</td>\n",
       "      <td>1</td>\n",
       "      <td>36.1</td>\n",
       "      <td>78.0</td>\n",
       "      <td>116.0</td>\n",
       "      <td>25</td>\n",
       "      <td>0</td>\n",
       "      <td>180.0</td>\n",
       "    </tr>\n",
       "    <tr>\n",
       "      <th>3</th>\n",
       "      <td>0.514</td>\n",
       "      <td>1</td>\n",
       "      <td>35.8</td>\n",
       "      <td>60.0</td>\n",
       "      <td>124.0</td>\n",
       "      <td>21</td>\n",
       "      <td>0</td>\n",
       "      <td>50.0</td>\n",
       "    </tr>\n",
       "    <tr>\n",
       "      <th>4</th>\n",
       "      <td>0.313</td>\n",
       "      <td>2</td>\n",
       "      <td>25.2</td>\n",
       "      <td>90.0</td>\n",
       "      <td>117.0</td>\n",
       "      <td>21</td>\n",
       "      <td>0</td>\n",
       "      <td>71.0</td>\n",
       "    </tr>\n",
       "  </tbody>\n",
       "</table>\n",
       "</div>"
      ],
      "text/plain": [
       "       0  1     2     3      5   7  8      4\n",
       "0  0.207  3  25.8  72.0  106.0  27  0   50.0\n",
       "1  0.160  4  33.1  68.0  131.0  28  0  166.0\n",
       "2  0.496  1  36.1  78.0  116.0  25  0  180.0\n",
       "3  0.514  1  35.8  60.0  124.0  21  0   50.0\n",
       "4  0.313  2  25.2  90.0  117.0  21  0   71.0"
      ]
     },
     "execution_count": 9,
     "metadata": {},
     "output_type": "execute_result"
    }
   ],
   "source": [
    "data_test.head(5)"
   ]
  },
  {
   "cell_type": "code",
   "execution_count": 10,
   "metadata": {
    "collapsed": true
   },
   "outputs": [],
   "source": [
    "data_test_raw=data_test[[0,1,2,3,4,5,7,8]]\n",
    "data_train_raw=data_train[[0,1,2,3,4,5,7,8]]"
   ]
  },
  {
   "cell_type": "code",
   "execution_count": 11,
   "metadata": {
    "collapsed": true
   },
   "outputs": [],
   "source": [
    "data_test_raw = (data_test_raw - data_test_raw.min()) / (data_test_raw.max() - data_test_raw.min())"
   ]
  },
  {
   "cell_type": "code",
   "execution_count": 12,
   "metadata": {
    "collapsed": true
   },
   "outputs": [],
   "source": [
    "data_train_raw = (data_train_raw - data_train_raw.min()) / (data_train_raw.max() - data_train_raw.min())"
   ]
  },
  {
   "cell_type": "code",
   "execution_count": 13,
   "metadata": {},
   "outputs": [
    {
     "name": "stderr",
     "output_type": "stream",
     "text": [
      "/home/yang/anaconda3/lib/python3.6/site-packages/sklearn/cross_validation.py:41: DeprecationWarning: This module was deprecated in version 0.18 in favor of the model_selection module into which all the refactored classes and functions are moved. Also note that the interface of the new CV iterators are different from that of this module. This module will be removed in 0.20.\n",
      "  \"This module will be removed in 0.20.\", DeprecationWarning)\n"
     ]
    },
    {
     "data": {
      "text/plain": [
       "0.77238805970149249"
      ]
     },
     "execution_count": 13,
     "metadata": {},
     "output_type": "execute_result"
    }
   ],
   "source": [
    "from sklearn.linear_model import LogisticRegression\n",
    "from sklearn import cross_validation,metrics\n",
    "lr = LogisticRegression()\n",
    "\n",
    "lr.fit(X_train, Y_train)\n",
    "lr.score(X_test, Y_test)"
   ]
  },
  {
   "cell_type": "code",
   "execution_count": 14,
   "metadata": {},
   "outputs": [
    {
     "data": {
      "text/plain": [
       "0.80223880597014929"
      ]
     },
     "execution_count": 14,
     "metadata": {},
     "output_type": "execute_result"
    }
   ],
   "source": [
    "from sklearn.ensemble import RandomForestClassifier\n",
    "rf = RandomForestClassifier(max_depth=6)\n",
    "\n",
    "rf.fit(X_train, Y_train)\n",
    "rf.score(X_test, Y_test)\n"
   ]
  },
  {
   "cell_type": "code",
   "execution_count": 15,
   "metadata": {},
   "outputs": [
    {
     "data": {
      "text/plain": [
       "0.82827715355805243"
      ]
     },
     "execution_count": 15,
     "metadata": {},
     "output_type": "execute_result"
    }
   ],
   "source": [
    "prodict_prob_y=rf.predict_proba(X_test)\n",
    "pr=np.mat(prodict_prob_y).transpose()[1].transpose()   #又写麻烦了emmm\n",
    "test_auc = metrics.roc_auc_score(Y_test,pr)        #验证集上的auc值\n",
    "test_auc "
   ]
  },
  {
   "cell_type": "code",
   "execution_count": null,
   "metadata": {
    "collapsed": true
   },
   "outputs": [],
   "source": []
  },
  {
   "cell_type": "code",
   "execution_count": null,
   "metadata": {
    "collapsed": true
   },
   "outputs": [],
   "source": []
  }
 ],
 "metadata": {
  "kernelspec": {
   "display_name": "Python 3",
   "language": "python",
   "name": "python3"
  },
  "language_info": {
   "codemirror_mode": {
    "name": "ipython",
    "version": 3
   },
   "file_extension": ".py",
   "mimetype": "text/x-python",
   "name": "python",
   "nbconvert_exporter": "python",
   "pygments_lexer": "ipython3",
   "version": "3.6.3"
  }
 },
 "nbformat": 4,
 "nbformat_minor": 2
}
